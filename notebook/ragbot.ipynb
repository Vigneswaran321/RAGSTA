{
 "cells": [
  {
   "cell_type": "markdown",
   "metadata": {},
   "source": [
    "# RAGSTA Bot - Powered by RAG\n",
    "# Author: Vigneswaran"
   ]
  },
  {
   "cell_type": "markdown",
   "metadata": {},
   "source": [
    "### Project Overview:\n",
    " RAGSTA Bot is a Retrieval-Augmented Generation (RAG) based chatbot that provides accurate responses to user queries about a given dataset or document. The bot uses a combination of pre-existing knowledge and real-time information retrieval to generate contextually relevant and informative answers.\n"
   ]
  },
  {
   "cell_type": "markdown",
   "metadata": {},
   "source": [
    "### Key Features:\n",
    "* Utilizes Cohere for natural language processing and embedding generation\n",
    "* Implements Pinecone for efficient vector storage and similarity search\n",
    "* Incorporates a custom dataset of Apple-related questions and answers"
   ]
  },
  {
   "cell_type": "markdown",
   "metadata": {},
   "source": [
    "### Table of Contents:\n",
    "1. Importing Python Libraries\n",
    "2. Data Extraction and Preparation\n",
    "3. Embedding Generation\n",
    "4. Vector Database Setup\n",
    "5. Query Processing and Response Generation\n",
    "6. Example Queries"
   ]
  },
  {
   "cell_type": "markdown",
   "metadata": {},
   "source": [
    "### 1. Importing Python Libraries\n",
    "- Install required packages\n",
    "- Import necessary modules for the project\n",
    "- Initialize Cohere & Pinecone with their API Keys"
   ]
  },
  {
   "cell_type": "code",
   "execution_count": 1,
   "metadata": {},
   "outputs": [
    {
     "name": "stdout",
     "output_type": "stream",
     "text": [
      "Defaulting to user installation because normal site-packages is not writeable\n",
      "Requirement already satisfied: cohere in c:\\users\\vicky\\appdata\\roaming\\python\\python312\\site-packages (5.9.2)\n",
      "Requirement already satisfied: pinecone in c:\\users\\vicky\\appdata\\roaming\\python\\python312\\site-packages (5.2.0)\n",
      "Requirement already satisfied: datasets in c:\\users\\vicky\\appdata\\roaming\\python\\python312\\site-packages (3.0.0)\n",
      "Requirement already satisfied: pandas in c:\\programdata\\anaconda3\\lib\\site-packages (2.2.2)\n",
      "Requirement already satisfied: boto3<2.0.0,>=1.34.0 in c:\\users\\vicky\\appdata\\roaming\\python\\python312\\site-packages (from cohere) (1.35.19)\n",
      "Requirement already satisfied: fastavro<2.0.0,>=1.9.4 in c:\\users\\vicky\\appdata\\roaming\\python\\python312\\site-packages (from cohere) (1.9.7)\n",
      "Requirement already satisfied: httpx>=0.21.2 in c:\\users\\vicky\\appdata\\roaming\\python\\python312\\site-packages (from cohere) (0.27.2)\n",
      "Requirement already satisfied: httpx-sse==0.4.0 in c:\\users\\vicky\\appdata\\roaming\\python\\python312\\site-packages (from cohere) (0.4.0)\n",
      "Requirement already satisfied: parameterized<0.10.0,>=0.9.0 in c:\\users\\vicky\\appdata\\roaming\\python\\python312\\site-packages (from cohere) (0.9.0)\n",
      "Requirement already satisfied: pydantic>=1.9.2 in c:\\users\\vicky\\appdata\\roaming\\python\\python312\\site-packages (from cohere) (2.9.1)\n",
      "Requirement already satisfied: pydantic-core<3.0.0,>=2.18.2 in c:\\users\\vicky\\appdata\\roaming\\python\\python312\\site-packages (from cohere) (2.23.3)\n",
      "Requirement already satisfied: requests<3.0.0,>=2.0.0 in c:\\programdata\\anaconda3\\lib\\site-packages (from cohere) (2.32.2)\n",
      "Requirement already satisfied: tokenizers<1,>=0.15 in c:\\users\\vicky\\appdata\\roaming\\python\\python312\\site-packages (from cohere) (0.20.0)\n",
      "Requirement already satisfied: types-requests<3.0.0,>=2.0.0 in c:\\users\\vicky\\appdata\\roaming\\python\\python312\\site-packages (from cohere) (2.32.0.20240914)\n",
      "Requirement already satisfied: typing_extensions>=4.0.0 in c:\\programdata\\anaconda3\\lib\\site-packages (from cohere) (4.11.0)\n",
      "Requirement already satisfied: certifi>=2019.11.17 in c:\\programdata\\anaconda3\\lib\\site-packages (from pinecone) (2024.6.2)\n",
      "Requirement already satisfied: pinecone-plugin-inference<2.0.0,>=1.1.0 in c:\\users\\vicky\\appdata\\roaming\\python\\python312\\site-packages (from pinecone) (1.1.0)\n",
      "Requirement already satisfied: pinecone-plugin-interface<0.0.8,>=0.0.7 in c:\\users\\vicky\\appdata\\roaming\\python\\python312\\site-packages (from pinecone) (0.0.7)\n",
      "Requirement already satisfied: tqdm>=4.64.1 in c:\\programdata\\anaconda3\\lib\\site-packages (from pinecone) (4.66.4)\n",
      "Requirement already satisfied: urllib3>=1.26.5 in c:\\programdata\\anaconda3\\lib\\site-packages (from pinecone) (2.2.2)\n",
      "Requirement already satisfied: filelock in c:\\programdata\\anaconda3\\lib\\site-packages (from datasets) (3.13.1)\n",
      "Requirement already satisfied: numpy>=1.17 in c:\\programdata\\anaconda3\\lib\\site-packages (from datasets) (1.26.4)\n",
      "Requirement already satisfied: pyarrow>=15.0.0 in c:\\users\\vicky\\appdata\\roaming\\python\\python312\\site-packages (from datasets) (17.0.0)\n",
      "Requirement already satisfied: dill<0.3.9,>=0.3.0 in c:\\programdata\\anaconda3\\lib\\site-packages (from datasets) (0.3.8)\n",
      "Requirement already satisfied: xxhash in c:\\users\\vicky\\appdata\\roaming\\python\\python312\\site-packages (from datasets) (3.5.0)\n",
      "Requirement already satisfied: multiprocess in c:\\users\\vicky\\appdata\\roaming\\python\\python312\\site-packages (from datasets) (0.70.16)\n",
      "Requirement already satisfied: fsspec<=2024.6.1,>=2023.1.0 in c:\\programdata\\anaconda3\\lib\\site-packages (from fsspec[http]<=2024.6.1,>=2023.1.0->datasets) (2024.3.1)\n",
      "Requirement already satisfied: aiohttp in c:\\programdata\\anaconda3\\lib\\site-packages (from datasets) (3.9.5)\n",
      "Requirement already satisfied: huggingface-hub>=0.22.0 in c:\\users\\vicky\\appdata\\roaming\\python\\python312\\site-packages (from datasets) (0.24.7)\n",
      "Requirement already satisfied: packaging in c:\\users\\vicky\\appdata\\roaming\\python\\python312\\site-packages (from datasets) (24.1)\n",
      "Requirement already satisfied: pyyaml>=5.1 in c:\\programdata\\anaconda3\\lib\\site-packages (from datasets) (6.0.1)\n",
      "Requirement already satisfied: python-dateutil>=2.8.2 in c:\\users\\vicky\\appdata\\roaming\\python\\python312\\site-packages (from pandas) (2.9.0.post0)\n",
      "Requirement already satisfied: pytz>=2020.1 in c:\\programdata\\anaconda3\\lib\\site-packages (from pandas) (2024.1)\n",
      "Requirement already satisfied: tzdata>=2022.7 in c:\\programdata\\anaconda3\\lib\\site-packages (from pandas) (2023.3)\n",
      "Requirement already satisfied: botocore<1.36.0,>=1.35.19 in c:\\users\\vicky\\appdata\\roaming\\python\\python312\\site-packages (from boto3<2.0.0,>=1.34.0->cohere) (1.35.19)\n",
      "Requirement already satisfied: jmespath<2.0.0,>=0.7.1 in c:\\programdata\\anaconda3\\lib\\site-packages (from boto3<2.0.0,>=1.34.0->cohere) (1.0.1)\n",
      "Requirement already satisfied: s3transfer<0.11.0,>=0.10.0 in c:\\users\\vicky\\appdata\\roaming\\python\\python312\\site-packages (from boto3<2.0.0,>=1.34.0->cohere) (0.10.2)\n",
      "Requirement already satisfied: aiosignal>=1.1.2 in c:\\programdata\\anaconda3\\lib\\site-packages (from aiohttp->datasets) (1.2.0)\n",
      "Requirement already satisfied: attrs>=17.3.0 in c:\\programdata\\anaconda3\\lib\\site-packages (from aiohttp->datasets) (23.1.0)\n",
      "Requirement already satisfied: frozenlist>=1.1.1 in c:\\programdata\\anaconda3\\lib\\site-packages (from aiohttp->datasets) (1.4.0)\n",
      "Requirement already satisfied: multidict<7.0,>=4.5 in c:\\programdata\\anaconda3\\lib\\site-packages (from aiohttp->datasets) (6.0.4)\n",
      "Requirement already satisfied: yarl<2.0,>=1.0 in c:\\programdata\\anaconda3\\lib\\site-packages (from aiohttp->datasets) (1.9.3)\n",
      "Requirement already satisfied: anyio in c:\\programdata\\anaconda3\\lib\\site-packages (from httpx>=0.21.2->cohere) (4.2.0)\n",
      "Requirement already satisfied: httpcore==1.* in c:\\users\\vicky\\appdata\\roaming\\python\\python312\\site-packages (from httpx>=0.21.2->cohere) (1.0.5)\n",
      "Requirement already satisfied: idna in c:\\programdata\\anaconda3\\lib\\site-packages (from httpx>=0.21.2->cohere) (3.7)\n",
      "Requirement already satisfied: sniffio in c:\\programdata\\anaconda3\\lib\\site-packages (from httpx>=0.21.2->cohere) (1.3.0)\n",
      "Requirement already satisfied: h11<0.15,>=0.13 in c:\\users\\vicky\\appdata\\roaming\\python\\python312\\site-packages (from httpcore==1.*->httpx>=0.21.2->cohere) (0.14.0)\n",
      "Requirement already satisfied: annotated-types>=0.6.0 in c:\\programdata\\anaconda3\\lib\\site-packages (from pydantic>=1.9.2->cohere) (0.6.0)\n",
      "Requirement already satisfied: six>=1.5 in c:\\users\\vicky\\appdata\\roaming\\python\\python312\\site-packages (from python-dateutil>=2.8.2->pandas) (1.16.0)\n",
      "Requirement already satisfied: charset-normalizer<4,>=2 in c:\\programdata\\anaconda3\\lib\\site-packages (from requests<3.0.0,>=2.0.0->cohere) (2.0.4)\n",
      "Requirement already satisfied: colorama in c:\\users\\vicky\\appdata\\roaming\\python\\python312\\site-packages (from tqdm>=4.64.1->pinecone) (0.4.6)\n",
      "Note: you may need to restart the kernel to use updated packages.\n"
     ]
    }
   ],
   "source": [
    "# Install required packages\n",
    "%pip install -U cohere pinecone numpy pandas"
   ]
  },
  {
   "cell_type": "code",
   "execution_count": 2,
   "metadata": {},
   "outputs": [],
   "source": [
    "# Import necessary libraries\n",
    "import cohere\n",
    "import pandas as pd\n",
    "import numpy as np\n",
    "from pinecone import Pinecone, ServerlessSpec, PineconeApiException"
   ]
  },
  {
   "cell_type": "code",
   "execution_count": 3,
   "metadata": {},
   "outputs": [],
   "source": [
    "# Initialize Cohere client\n",
    "co = cohere.Client(\"COHERE_API_KEY\")"
   ]
  },
  {
   "cell_type": "code",
   "execution_count": 4,
   "metadata": {},
   "outputs": [],
   "source": [
    "# Initialize Pinecone\n",
    "pc = Pinecone(api_key='PINECONE_API_KEY')"
   ]
  },
  {
   "cell_type": "markdown",
   "metadata": {},
   "source": [
    "### 2. Data Extraction and Preparation\n",
    "- Load the dataset from a CSV file\n",
    "- Prepare the data for embedding generation"
   ]
  },
  {
   "cell_type": "code",
   "execution_count": 5,
   "metadata": {},
   "outputs": [
    {
     "data": {
      "text/plain": [
       "(1005, 2)"
      ]
     },
     "execution_count": 5,
     "metadata": {},
     "output_type": "execute_result"
    }
   ],
   "source": [
    "# Load the dataset\n",
    "df = pd.read_csv(\"C:/Users/Vicky/Documents/RAG Bot/notebook/dataset.csv\",header=0)\n",
    "df.shape"
   ]
  },
  {
   "cell_type": "code",
   "execution_count": 6,
   "metadata": {},
   "outputs": [
    {
     "name": "stdout",
     "output_type": "stream",
     "text": [
      "0      How do I take a screenshot on an iPhone?\n",
      "1    How do I change my wallpaper on an iPhone?\n",
      "2      How do I make a phone call on an iPhone?\n",
      "3    How do I send a text message on an iPhone?\n",
      "4               How do I use Siri on an iPhone?\n",
      "Name: Question, dtype: object\n"
     ]
    }
   ],
   "source": [
    "# Display the first few questions in the dataset\n",
    "print(df.iloc[:, 0].head())"
   ]
  },
  {
   "cell_type": "code",
   "execution_count": 7,
   "metadata": {},
   "outputs": [],
   "source": [
    "# Combine question and answer columns\n",
    "df['combined'] = df['Question'].astype(str) + \" \" + df['Answer'].astype(str)\n",
    "texts = df['combined'].tolist()"
   ]
  },
  {
   "cell_type": "markdown",
   "metadata": {},
   "source": [
    "### 3. Embedding Generation\n",
    "- Generate embeddings for the combined text using Cohere\n",
    "- Verify the shape of the generated embeddings"
   ]
  },
  {
   "cell_type": "code",
   "execution_count": 8,
   "metadata": {},
   "outputs": [
    {
     "name": "stdout",
     "output_type": "stream",
     "text": [
      "Embedding shape: (1005, 1024)\n"
     ]
    }
   ],
   "source": [
    "# Generate embeddings\n",
    "embeds = co.embed(\n",
    "    texts=texts,\n",
    "    model='embed-english-v3.0',\n",
    "    input_type='search_document',\n",
    "    truncate='END'\n",
    ").embeddings\n",
    "\n",
    "# Print the shape of the embeddings\n",
    "embed_shape = np.array(embeds).shape\n",
    "print(f\"Embedding shape: {embed_shape}\")"
   ]
  },
  {
   "cell_type": "markdown",
   "metadata": {},
   "source": [
    "### 4. Vector Database Setup\n",
    "- Create a new index or connect to an existing one\n",
    "- Upsert vectors into the index"
   ]
  },
  {
   "cell_type": "code",
   "execution_count": 9,
   "metadata": {},
   "outputs": [
    {
     "name": "stdout",
     "output_type": "stream",
     "text": [
      "Connected to the existing index: quickstart\n"
     ]
    }
   ],
   "source": [
    "# Set up index parameters\n",
    "index_name = \"quickstart\"\n",
    "dimension = 1024\n",
    "metric = \"cosine\"\n",
    "\n",
    "\n",
    "try:\n",
    "    # Check if the index exists by connecting\n",
    "    index = pc.Index(index_name)\n",
    "    print(f\"Connected to the existing index: {index_name}\")\n",
    "except PineconeApiException as e:\n",
    "    # If index doesn't exist, create a new one\n",
    "    print(f\"Index {index_name} not found, creating a new index.\")\n",
    "    pc.create_index(\n",
    "        name=index_name,\n",
    "        dimension=dimension,\n",
    "        metric=metric,\n",
    "        spec=ServerlessSpec(\n",
    "            cloud=\"aws\",\n",
    "            region=\"us-east-1\"\n",
    "        )\n",
    "    )\n",
    "    index = pc.Index(index_name)\n",
    "    print(f\"Created and connected to the new index: {index_name}\")"
   ]
  },
  {
   "cell_type": "code",
   "execution_count": 10,
   "metadata": {},
   "outputs": [
    {
     "name": "stdout",
     "output_type": "stream",
     "text": [
      "{'dimension': 1024,\n",
      " 'index_fullness': 0.0,\n",
      " 'namespaces': {'': {'vector_count': 1005}},\n",
      " 'total_vector_count': 1005}\n"
     ]
    }
   ],
   "source": [
    "# Prepare data for upserting\n",
    "batch_size = 128\n",
    "ids = [str(i) for i in range(len(embeds))]\n",
    "df['Question'] = df['Question'].fillna('')\n",
    "df['Answer'] = df['Answer'].fillna('')\n",
    "meta = [{'question': q, 'answer': a} for q, a in zip(df['Question'], df['Answer'])]\n",
    "to_upsert = list(zip(ids, embeds, meta))\n",
    "\n",
    "# Upsert vectors in batches\n",
    "for i in range(0, len(embeds), batch_size):\n",
    "    i_end = min(i + batch_size, len(embeds))\n",
    "    index.upsert(vectors=to_upsert[i:i_end])\n",
    "\n",
    "# Print index statistics\n",
    "print(index.describe_index_stats())"
   ]
  },
  {
   "cell_type": "markdown",
   "metadata": {},
   "source": [
    "### 5. Query Processing and Response Generation\n",
    "- Process user queries\n",
    "- Retrieve relevant context from the vector database\n",
    "- Generate responses using Cohere's language model"
   ]
  },
  {
   "cell_type": "code",
   "execution_count": 11,
   "metadata": {},
   "outputs": [],
   "source": [
    "def process_query(query):\n",
    "    # Generate query embedding\n",
    "    xq = co.embed(\n",
    "        texts=[query],\n",
    "        model='embed-english-v3.0',\n",
    "        input_type='search_query',\n",
    "        truncate='END'\n",
    "    ).embeddings\n",
    "\n",
    "    # Query the index\n",
    "    res = index.query(vector=xq, top_k=5, include_metadata=True)\n",
    "\n",
    "    # Retrieve relevant context\n",
    "    context = \"\"\n",
    "    for match in res['matches']:\n",
    "        context += f\"Question: {match['metadata']['question']}\\n\"\n",
    "        context += f\"Answer: {match['metadata']['answer']}\\n\\n\"\n",
    "\n",
    "    # Combine query and context for the language model\n",
    "    combined_message = f\"User Query: {query}\\n\\nRelevant Context:\\n{context}\"\n",
    "\n",
    "    # Generate response using Cohere's language model\n",
    "    response = co.chat(message=combined_message, model=\"command-r-plus\")\n",
    "\n",
    "    return response.text\n"
   ]
  },
  {
   "cell_type": "markdown",
   "metadata": {},
   "source": [
    "### 6. Example Queries"
   ]
  },
  {
   "cell_type": "code",
   "execution_count": 12,
   "metadata": {},
   "outputs": [
    {
     "name": "stdout",
     "output_type": "stream",
     "text": [
      "Query: How to download apps\n",
      "Response: Downloading apps on your iPhone is simple and can be done through the App Store. Here's a step-by-step guide on how to do it: \n",
      "\n",
      "**Step 1: Open the App Store**\n",
      "\n",
      "Locate the App Store icon on your iPhone and tap to open it. \n",
      "\n",
      "**Step 2: Search for an App**\n",
      "\n",
      "- Use the search bar at the top of the screen to look for a specific app by name. \n",
      "- Alternatively, browse through the various categories, such as Games, Social, or Utilities, to explore different types of apps. You can also check out the featured apps on the Today tab or see what's popular in the charts. \n",
      "\n",
      "**Step 3: Choose an App**\n",
      "\n",
      "Once you've found an app you like, tap on it to open the app's product page. Here, you can read reviews, check the developer's description, and view screenshots or a preview of the app. \n",
      "\n",
      "**Step 4: Download the App**\n",
      "\n",
      "- If the app is free: Tap \"Get\" and then \"Install.\" The app will start downloading immediately. \n",
      "- If the app has a price: Tap the price, and a pop-up will appear, asking you to confirm the purchase. You may need to enter your Apple ID password or use Touch ID/Face ID to authenticate the purchase. After authentication, the app will begin downloading. \n",
      "\n",
      "**Step 5: Check Your Downloads**\n",
      "\n",
      "To view your downloaded apps or apps that are in the process of downloading, go to the \"Today\" tab in the App Store and tap on your profile icon in the top-right corner. From here, you can also see your purchased apps and any updates available for your installed apps. \n",
      "\n",
      "**Troubleshooting:**\n",
      "\n",
      "If you're having trouble downloading apps, ensure you have a stable internet connection and enough storage space on your device. You can also check your Apple ID payment and security settings to ensure they are up to date and correct. \n",
      "\n",
      "**Restoring Deleted Apps:**\n",
      "\n",
      "To restore a deleted app, go to the App Store, tap your profile icon, and select \"Purchased.\" From here, you can find and re-download any apps you've purchased or downloaded before. \n",
      "\n",
      "Remember to keep your apps updated to access the latest features and improvements. You can set your iPhone to update apps automatically by going to Settings > App Store and turning on App Updates.\n",
      "\n"
     ]
    }
   ],
   "source": [
    "# Test the RAGSTA Bot with sample queries\n",
    "query=\"How to download apps\"\n",
    "print(f\"Query: {query}\")\n",
    "response = process_query(query)\n",
    "print(f\"Response: {response}\\n\")"
   ]
  },
  {
   "cell_type": "code",
   "execution_count": 13,
   "metadata": {},
   "outputs": [
    {
     "name": "stdout",
     "output_type": "stream",
     "text": [
      "Query: How to take a photo\n",
      "Response: Here is a step-by-step guide on how to take a photo using your device's built-in Camera app: \n",
      "\n",
      "1. Open the Camera App: Find and tap on the camera icon on your device to open the Camera app. \n",
      "\n",
      "2. Frame Your Shot: Hold your device steady and point it towards the subject or scene you want to capture. Move closer or farther away, and adjust your angle to get the composition you desire. \n",
      "\n",
      "3. Focus and Exposure: Tap on the screen where you want the camera to focus. The camera will automatically adjust the exposure and focus settings for that area. You can also hold and drag the sun icon next to the focus box to manually adjust the exposure if needed. \n",
      "\n",
      "4. Choose Camera Mode (Optional): Depending on the lighting conditions and the type of photo you want to take, you can choose from various camera modes. For example, Portrait mode is excellent for close-up shots with a blurred background, while Panorama mode captures a wide-angle view. \n",
      "\n",
      "5. Tap the Shutter Button: When you're happy with the framing, focus, and exposure, it's time to capture the photo. Simply tap the shutter button (usually a large circular icon) on the screen, or you can also use the volume buttons on the side of your device as a shutter button. \n",
      "\n",
      "6. Review and Share: After taking the photo, you can review it by swiping up from the bottom of the screen or finding the photo in your gallery or camera roll. From there, you can edit, delete, or share the photo with your friends and family. \n",
      "\n",
      "That's it! You now know the basics of taking a photo with your device's Camera app. Feel free to experiment with different camera modes, lighting conditions, and composition techniques to enhance your photography skills further.\n",
      "\n"
     ]
    }
   ],
   "source": [
    "query=\"How to take a photo\"\n",
    "print(f\"Query: {query}\")\n",
    "response = process_query(query)\n",
    "print(f\"Response: {response}\\n\")"
   ]
  },
  {
   "cell_type": "code",
   "execution_count": 14,
   "metadata": {},
   "outputs": [
    {
     "name": "stdout",
     "output_type": "stream",
     "text": [
      "Query: How to use Siri\n",
      "Response: Here is a comprehensive guide on how to use Siri on your iPhone, as well as some tips for using Siri on your Apple Watch: \n",
      "\n",
      "**Using Siri on iPhone:**\n",
      "\n",
      "Activating Siri:\n",
      "- For older iPhones (with a Home button): Press and hold the Home button until you hear a chime and see the Siri interface. \n",
      "  - You can also enable the \"Hey Siri\" feature by going to Settings > Siri & Search, and then saying \"Hey Siri\" to activate Siri without pressing any buttons.\n",
      "- For newer iPhones (without a Home button): Press and hold the Side button until you hear a chime and the Siri interface appears. \n",
      "  - Similarly, you can enable \"Hey Siri\" for a hands-free experience.\n",
      "\n",
      "Giving Commands:\n",
      "- Once Siri is activated, you can give various voice commands. Here are some examples: \n",
      "  - Making Calls: Say something like, \"Call Mom,\" and Siri will initiate a call to your mother's number. \n",
      "  - Sending Texts: You can send a text by saying, \"Send a message to Dad saying, 'Running late. Be there in 20 minutes.'\" \n",
      "  - Setting Alarms: Ask Siri to set an alarm by saying, \"Wake me up tomorrow at 7 AM.\" \n",
      "  - Getting Directions: Request Siri to \"Get directions to the nearest coffee shop.\" \n",
      "  - Playing Music: Say, \"Play my favorite songs\" or \"Play some relaxing music.\" \n",
      "\n",
      "**Using Siri on Apple Watch:**\n",
      "\n",
      "- Press and hold the Digital Crown (the rotating button on the side of your Apple Watch) to activate Siri. Alternatively, you can simply say, \"Hey Siri,\" and then give your command. \n",
      "\n",
      "**Sending a Text Message Using Siri:**\n",
      "\n",
      "- To send a text message using Siri on your iPhone, activate Siri and say, \"Send a text to [contact name].\" Then, dictate your message, and Siri will ask you to confirm before sending it. \n",
      "\n",
      "Remember, Siri is designed to understand natural language, so you can speak to it as you would to a person. You can also ask Siri for help by saying, \"What can you do?\" or \"Help.\" With regular use, Siri will learn your preferences and become more accurate at understanding your requests.\n",
      "\n"
     ]
    }
   ],
   "source": [
    "query=\"How to use Siri\"\n",
    "print(f\"Query: {query}\")\n",
    "response = process_query(query)\n",
    "print(f\"Response: {response}\\n\")"
   ]
  },
  {
   "cell_type": "code",
   "execution_count": 15,
   "metadata": {},
   "outputs": [
    {
     "name": "stdout",
     "output_type": "stream",
     "text": [
      "Query: How to save photos from a browser?\n",
      "Response: To save photos from a web browser, simply follow these steps:\n",
      "\n",
      " For iPhone/iPad (using Safari): \n",
      "\n",
      "- Open the Safari browser and navigate to the web page containing the photo you wish to save.\n",
      "- Tap and hold the image until a menu appears.\n",
      "- Select \"Save Image\" from the menu to download the photo to your camera roll. \n",
      "\n",
      "For PC (using Windows and Google Chrome):\n",
      "\n",
      "- Open Google Chrome and navigate to the web page with the desired photo.\n",
      "- Right-click on the image and select \"Save Image As\" from the context menu.\n",
      "- Choose the location on your computer where you want to save the photo and click \"Save.\" \n",
      "\n",
      "For Mac (using Safari): \n",
      "\n",
      "- Launch Safari and navigate to the webpage with the photo you want to save.\n",
      "- Control-click or right-click on the image, then choose \"Save Image to Downloads\" or \"Save Image As...\" from the menu that appears. \n",
      "- Specify the save location if needed and click \"Save.\" \n",
      "\n",
      "With these steps, you can easily save any photo from your browser for future reference or use.\n",
      "\n",
      "Query: What's the best way to extend battery life on an iPhone?\n",
      "Response: Here are some tips to extend the battery life of your iPhone: \n",
      "\n",
      "- Reduce Screen Brightness: Lowering your screen brightness can help conserve battery power. You can do this manually or enable Auto-Brightness to adjust based on your lighting conditions. \n",
      "\n",
      "- Turn Off Background App Refresh: Background App Refresh allows apps to update content in the background, consuming power. Disabling this for apps that don't need constant updates can save battery life. Go to Settings > General > Background App Refresh and turn it off for unnecessary apps. \n",
      "\n",
      "- Enable Low Power Mode: Low Power Mode reduces power consumption by decreasing screen brightness, optimizing device performance, and minimizing system animations. It can be enabled manually or automatically when your battery reaches 20% and 10%. Go to Settings > Battery and turn on Low Power Mode, or enable it from the Control Center. \n",
      "\n",
      "- Manage Location Services: Location Services can be a significant battery drain. Go to Settings > Privacy > Location Services and turn off location access for apps that don't require your location. \n",
      "\n",
      "- Turn Off Wi-Fi and Bluetooth When Not in Use: If you're not using Wi-Fi or Bluetooth, turn them off to save power. You can do this from the Control Center or by going to Settings > Wi-Fi/Bluetooth and toggling them off. \n",
      "\n",
      "- Check Battery Usage by App: Go to Settings > Battery to see which apps are using the most power. This can help you identify apps that may be running excessively in the background or using too many location services. \n",
      "\n",
      "- Use Airplane Mode in Low-Signal Areas: If you're in an area with poor or no cellular signal, your phone will constantly search for a signal, draining the battery. Turning on Airplane Mode can help conserve power in such situations. \n",
      "\n",
      "- Limit Push Notifications: Push notifications from apps can also consume power. Go to Settings > Notifications and review which apps send push notifications. Turn off notifications for apps that you don't need immediate updates from. \n",
      "\n",
      "- Update to the Latest iOS Version: Keeping your iPhone updated ensures that you have the latest power optimization features. Newer iOS versions often include improvements to reduce battery drain. \n",
      "\n",
      "- Calibrate Your iPhone Battery: Apple recommends calibrating your iPhone battery every few months. This entails letting your iPhone discharge to below 10%, then charging it uninterrupted to 100%. This helps the battery gauge maintain accuracy. \n",
      "\n",
      "- Use Apple-Certified Chargers and Cables: Using non-certified chargers and cables may result in slower charging and potential battery damage. Always opt for Apple-certified or MFi-certified accessories. \n",
      "\n",
      "By following these tips, you can effectively extend the battery life of your iPhone and reduce the frequency of charging.\n",
      "\n",
      "Query: How can I set up Apple Pay on my device?\n",
      "Response: To set up Apple Pay on your device, you can follow these general steps: \n",
      "\n",
      "- Ensure your device is compatible with Apple Pay. This includes most newer iPhone and Apple Watch models, as well as some iPad models. \n",
      "- Open the appropriate app: For iPhone and iPad, go to Settings > Wallet & Apple Pay. For Apple Watch, open the Apple Watch app on your iPhone. \n",
      "- Follow the on-screen instructions to add a card. This typically involves taking a picture of your card or manually entering the details. \n",
      "- Verify your card. This may be done through a verification code sent to your device or by contacting your bank. \n",
      "\n",
      "Once your card is added and verified, you're ready to start using Apple Pay! \n",
      "\n",
      "For the Apple Watch, after setting up Apple Pay through the iPhone app, you can also use the built-in Wallet app to make payments. Simply hold your Apple Watch near a contactless payment terminal, and a vibration and green checkmark will confirm the payment is complete. \n",
      "\n",
      "For the iPad, the process is similar to the iPhone, going through the Settings app to add a card to Wallet & Apple Pay. \n",
      "\n",
      "Remember to keep your device secure with a passcode or Touch ID/Face ID to ensure your payment information remains safe.\n",
      "\n"
     ]
    }
   ],
   "source": [
    "# Test the RAGSTA Bot with multiple queries\n",
    "\n",
    "example_queries = [\n",
    "    \"How to save photos from a browser?\",\n",
    "    \"What's the best way to extend battery life on an iPhone?\",\n",
    "    \"How can I set up Apple Pay on my device?\"\n",
    "]\n",
    "\n",
    "for query in example_queries:\n",
    "    print(f\"Query: {query}\")\n",
    "    response = process_query(query)\n",
    "    print(f\"Response: {response}\\n\")"
   ]
  }
 ],
 "metadata": {
  "kernelspec": {
   "display_name": "Python 3 (ipykernel)",
   "language": "python",
   "name": "python3"
  },
  "language_info": {
   "codemirror_mode": {
    "name": "ipython",
    "version": 3
   },
   "file_extension": ".py",
   "mimetype": "text/x-python",
   "name": "python",
   "nbconvert_exporter": "python",
   "pygments_lexer": "ipython3",
   "version": "3.12.4"
  }
 },
 "nbformat": 4,
 "nbformat_minor": 4
}
