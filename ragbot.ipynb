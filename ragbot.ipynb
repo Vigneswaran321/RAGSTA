{
 "cells": [
  {
   "cell_type": "code",
   "execution_count": 13,
   "metadata": {},
   "outputs": [
    {
     "name": "stdout",
     "output_type": "stream",
     "text": [
      "Defaulting to user installation because normal site-packages is not writeableNote: you may need to restart the kernel to use updated packages.\n",
      "\n",
      "Requirement already satisfied: cohere in c:\\users\\vicky\\appdata\\roaming\\python\\python312\\site-packages (5.9.2)\n",
      "Requirement already satisfied: pinecone in c:\\users\\vicky\\appdata\\roaming\\python\\python312\\site-packages (5.1.0)\n",
      "Requirement already satisfied: datasets in c:\\users\\vicky\\appdata\\roaming\\python\\python312\\site-packages (3.0.0)\n",
      "Requirement already satisfied: pandas in c:\\programdata\\anaconda3\\lib\\site-packages (2.2.2)\n",
      "Requirement already satisfied: boto3<2.0.0,>=1.34.0 in c:\\users\\vicky\\appdata\\roaming\\python\\python312\\site-packages (from cohere) (1.35.19)\n",
      "Requirement already satisfied: fastavro<2.0.0,>=1.9.4 in c:\\users\\vicky\\appdata\\roaming\\python\\python312\\site-packages (from cohere) (1.9.7)\n",
      "Requirement already satisfied: httpx>=0.21.2 in c:\\users\\vicky\\appdata\\roaming\\python\\python312\\site-packages (from cohere) (0.27.2)\n",
      "Requirement already satisfied: httpx-sse==0.4.0 in c:\\users\\vicky\\appdata\\roaming\\python\\python312\\site-packages (from cohere) (0.4.0)\n",
      "Requirement already satisfied: parameterized<0.10.0,>=0.9.0 in c:\\users\\vicky\\appdata\\roaming\\python\\python312\\site-packages (from cohere) (0.9.0)\n",
      "Requirement already satisfied: pydantic>=1.9.2 in c:\\users\\vicky\\appdata\\roaming\\python\\python312\\site-packages (from cohere) (2.9.1)\n",
      "Requirement already satisfied: pydantic-core<3.0.0,>=2.18.2 in c:\\users\\vicky\\appdata\\roaming\\python\\python312\\site-packages (from cohere) (2.23.3)\n",
      "Requirement already satisfied: requests<3.0.0,>=2.0.0 in c:\\programdata\\anaconda3\\lib\\site-packages (from cohere) (2.32.2)\n",
      "Requirement already satisfied: tokenizers<1,>=0.15 in c:\\users\\vicky\\appdata\\roaming\\python\\python312\\site-packages (from cohere) (0.20.0)\n",
      "Requirement already satisfied: types-requests<3.0.0,>=2.0.0 in c:\\users\\vicky\\appdata\\roaming\\python\\python312\\site-packages (from cohere) (2.32.0.20240914)\n",
      "Requirement already satisfied: typing_extensions>=4.0.0 in c:\\programdata\\anaconda3\\lib\\site-packages (from cohere) (4.11.0)\n",
      "Requirement already satisfied: certifi>=2019.11.17 in c:\\programdata\\anaconda3\\lib\\site-packages (from pinecone) (2024.6.2)\n",
      "Requirement already satisfied: pinecone-plugin-inference<2.0.0,>=1.0.3 in c:\\users\\vicky\\appdata\\roaming\\python\\python312\\site-packages (from pinecone) (1.1.0)\n",
      "Requirement already satisfied: pinecone-plugin-interface<0.0.8,>=0.0.7 in c:\\users\\vicky\\appdata\\roaming\\python\\python312\\site-packages (from pinecone) (0.0.7)\n",
      "Requirement already satisfied: tqdm>=4.64.1 in c:\\programdata\\anaconda3\\lib\\site-packages (from pinecone) (4.66.4)\n",
      "Requirement already satisfied: urllib3>=1.26.5 in c:\\programdata\\anaconda3\\lib\\site-packages (from pinecone) (2.2.2)\n",
      "Requirement already satisfied: filelock in c:\\programdata\\anaconda3\\lib\\site-packages (from datasets) (3.13.1)\n",
      "Requirement already satisfied: numpy>=1.17 in c:\\programdata\\anaconda3\\lib\\site-packages (from datasets) (1.26.4)\n",
      "Requirement already satisfied: pyarrow>=15.0.0 in c:\\users\\vicky\\appdata\\roaming\\python\\python312\\site-packages (from datasets) (17.0.0)\n",
      "Requirement already satisfied: dill<0.3.9,>=0.3.0 in c:\\programdata\\anaconda3\\lib\\site-packages (from datasets) (0.3.8)\n",
      "Requirement already satisfied: xxhash in c:\\users\\vicky\\appdata\\roaming\\python\\python312\\site-packages (from datasets) (3.5.0)\n",
      "Requirement already satisfied: multiprocess in c:\\users\\vicky\\appdata\\roaming\\python\\python312\\site-packages (from datasets) (0.70.16)\n",
      "Requirement already satisfied: fsspec<=2024.6.1,>=2023.1.0 in c:\\programdata\\anaconda3\\lib\\site-packages (from fsspec[http]<=2024.6.1,>=2023.1.0->datasets) (2024.3.1)\n",
      "Requirement already satisfied: aiohttp in c:\\programdata\\anaconda3\\lib\\site-packages (from datasets) (3.9.5)\n",
      "Requirement already satisfied: huggingface-hub>=0.22.0 in c:\\users\\vicky\\appdata\\roaming\\python\\python312\\site-packages (from datasets) (0.24.7)\n",
      "Requirement already satisfied: packaging in c:\\users\\vicky\\appdata\\roaming\\python\\python312\\site-packages (from datasets) (24.1)\n",
      "Requirement already satisfied: pyyaml>=5.1 in c:\\programdata\\anaconda3\\lib\\site-packages (from datasets) (6.0.1)\n",
      "Requirement already satisfied: python-dateutil>=2.8.2 in c:\\users\\vicky\\appdata\\roaming\\python\\python312\\site-packages (from pandas) (2.9.0.post0)\n",
      "Requirement already satisfied: pytz>=2020.1 in c:\\programdata\\anaconda3\\lib\\site-packages (from pandas) (2024.1)\n",
      "Requirement already satisfied: tzdata>=2022.7 in c:\\programdata\\anaconda3\\lib\\site-packages (from pandas) (2023.3)\n",
      "Requirement already satisfied: botocore<1.36.0,>=1.35.19 in c:\\users\\vicky\\appdata\\roaming\\python\\python312\\site-packages (from boto3<2.0.0,>=1.34.0->cohere) (1.35.19)\n",
      "Requirement already satisfied: jmespath<2.0.0,>=0.7.1 in c:\\programdata\\anaconda3\\lib\\site-packages (from boto3<2.0.0,>=1.34.0->cohere) (1.0.1)\n",
      "Requirement already satisfied: s3transfer<0.11.0,>=0.10.0 in c:\\users\\vicky\\appdata\\roaming\\python\\python312\\site-packages (from boto3<2.0.0,>=1.34.0->cohere) (0.10.2)\n",
      "Requirement already satisfied: aiosignal>=1.1.2 in c:\\programdata\\anaconda3\\lib\\site-packages (from aiohttp->datasets) (1.2.0)\n",
      "Requirement already satisfied: attrs>=17.3.0 in c:\\programdata\\anaconda3\\lib\\site-packages (from aiohttp->datasets) (23.1.0)\n",
      "Requirement already satisfied: frozenlist>=1.1.1 in c:\\programdata\\anaconda3\\lib\\site-packages (from aiohttp->datasets) (1.4.0)\n",
      "Requirement already satisfied: multidict<7.0,>=4.5 in c:\\programdata\\anaconda3\\lib\\site-packages (from aiohttp->datasets) (6.0.4)\n",
      "Requirement already satisfied: yarl<2.0,>=1.0 in c:\\programdata\\anaconda3\\lib\\site-packages (from aiohttp->datasets) (1.9.3)\n",
      "Requirement already satisfied: anyio in c:\\programdata\\anaconda3\\lib\\site-packages (from httpx>=0.21.2->cohere) (4.2.0)\n",
      "Requirement already satisfied: httpcore==1.* in c:\\users\\vicky\\appdata\\roaming\\python\\python312\\site-packages (from httpx>=0.21.2->cohere) (1.0.5)\n",
      "Requirement already satisfied: idna in c:\\programdata\\anaconda3\\lib\\site-packages (from httpx>=0.21.2->cohere) (3.7)\n",
      "Requirement already satisfied: sniffio in c:\\programdata\\anaconda3\\lib\\site-packages (from httpx>=0.21.2->cohere) (1.3.0)\n",
      "Requirement already satisfied: h11<0.15,>=0.13 in c:\\users\\vicky\\appdata\\roaming\\python\\python312\\site-packages (from httpcore==1.*->httpx>=0.21.2->cohere) (0.14.0)\n",
      "Requirement already satisfied: annotated-types>=0.6.0 in c:\\programdata\\anaconda3\\lib\\site-packages (from pydantic>=1.9.2->cohere) (0.6.0)\n",
      "Requirement already satisfied: six>=1.5 in c:\\users\\vicky\\appdata\\roaming\\python\\python312\\site-packages (from python-dateutil>=2.8.2->pandas) (1.16.0)\n",
      "Requirement already satisfied: charset-normalizer<4,>=2 in c:\\programdata\\anaconda3\\lib\\site-packages (from requests<3.0.0,>=2.0.0->cohere) (2.0.4)\n",
      "Requirement already satisfied: colorama in c:\\users\\vicky\\appdata\\roaming\\python\\python312\\site-packages (from tqdm>=4.64.1->pinecone) (0.4.6)\n"
     ]
    }
   ],
   "source": [
    "%pip install -U cohere pinecone datasets pandas"
   ]
  },
  {
   "cell_type": "code",
   "execution_count": 14,
   "metadata": {},
   "outputs": [],
   "source": [
    "import cohere\n",
    "\n",
    "co = cohere.Client(\"COHERE_API_KEY\")\n"
   ]
  },
  {
   "cell_type": "code",
   "execution_count": 28,
   "metadata": {},
   "outputs": [
    {
     "data": {
      "text/plain": [
       "(1005, 2)"
      ]
     },
     "execution_count": 28,
     "metadata": {},
     "output_type": "execute_result"
    }
   ],
   "source": [
    "import pandas as pd\n",
    "df = pd.read_csv(\"C:/Users/Vicky/Documents/RAG Bot/dataset.csv\",header=0)\n",
    "df.shape"
   ]
  },
  {
   "cell_type": "code",
   "execution_count": 36,
   "metadata": {},
   "outputs": [
    {
     "data": {
      "text/plain": [
       "0                How do I take a screenshot on an iPhone?\n",
       "1              How do I change my wallpaper on an iPhone?\n",
       "2                How do I make a phone call on an iPhone?\n",
       "3              How do I send a text message on an iPhone?\n",
       "4                         How do I use Siri on an iPhone?\n",
       "                              ...                        \n",
       "1000    How to clear cache on Safari on my Mac for imp...\n",
       "1001        What to do if my AirPods Pro have low volume?\n",
       "1002    Can I use a wireless trackpad with my Mac for ...\n",
       "1003    How to transfer files from my Mac to my iPhone...\n",
       "1004    Is it possible to use Siri on my Mac without c...\n",
       "Name: Question, Length: 1005, dtype: object"
      ]
     },
     "execution_count": 36,
     "metadata": {},
     "output_type": "execute_result"
    }
   ],
   "source": [
    "df.iloc[:, 0]"
   ]
  },
  {
   "cell_type": "code",
   "execution_count": 37,
   "metadata": {},
   "outputs": [],
   "source": [
    "# Assuming your DataFrame has 'Question' and 'Answer' columns\n",
    "df['combined'] = df['Question'].astype(str) + \" \" + df['Answer'].astype(str)\n",
    "\n",
    "# Convert the 'combined' column to a list of strings\n",
    "texts = df['combined'].tolist()\n",
    "\n",
    "# Generate embeddings\n",
    "embeds = co.embed(\n",
    "    texts=texts,\n",
    "    model='embed-english-v3.0',\n",
    "    input_type='search_document',\n",
    "    truncate='END'\n",
    ").embeddings"
   ]
  },
  {
   "cell_type": "code",
   "execution_count": 38,
   "metadata": {},
   "outputs": [
    {
     "name": "stdout",
     "output_type": "stream",
     "text": [
      "(1005, 1024)\n"
     ]
    }
   ],
   "source": [
    "import numpy as np\n",
    "\n",
    "shape = np.array(embeds).shape\n",
    "print(shape)\n",
    "\n",
    "# [Out]:\n",
    "# (1000, 1024)\n"
   ]
  },
  {
   "cell_type": "code",
   "execution_count": 44,
   "metadata": {},
   "outputs": [],
   "source": [
    "from pinecone import Pinecone\n",
    "\n",
    "# initialize connection to pinecone (get API key at app.pinecone.io)\n",
    "pc = Pinecone(api_key='PINECONE_API_KEY')\n",
    "\n",
    "index_name = \"quickstart\"\n",
    "\n",
    "pc.create_index(\n",
    "    name=index_name,\n",
    "    dimension=1024, # Replace with your model dimensions\n",
    "    metric=\"cosine\", # Replace with your model metric\n",
    "    spec=ServerlessSpec(\n",
    "        cloud=\"aws\",\n",
    "        region=\"us-east-1\"\n",
    "    ) \n",
    ")\n",
    "\n",
    "\n",
    "# connect to index\n",
    "index = pc.Index(index_name)\n"
   ]
  },
  {
   "cell_type": "code",
   "execution_count": 46,
   "metadata": {},
   "outputs": [
    {
     "name": "stdout",
     "output_type": "stream",
     "text": [
      "{'dimension': 1024,\n",
      " 'index_fullness': 0.0,\n",
      " 'namespaces': {'': {'vector_count': 1005}},\n",
      " 'total_vector_count': 1005}\n"
     ]
    }
   ],
   "source": [
    "batch_size = 128\n",
    "shape = (len(embeds),)  # Get the shape based on the number of embeddings\n",
    "\n",
    "# Create list of IDs for each embedding (assuming one embedding per row)\n",
    "ids = [str(i) for i in range(shape[0])]\n",
    "\n",
    "df['Question'] = df['Question'].fillna('')\n",
    "df['Answer'] = df['Answer'].fillna('')\n",
    "\n",
    "# Assuming `df` contains the columns 'Question' and 'Answer'\n",
    "# Create list of metadata dictionaries with both question and answer\n",
    "meta = [{'question': question, 'answer': answer} for question, answer in zip(df['Question'], df['Answer'])]\n",
    "\n",
    "# Create list of (id, vector, metadata) tuples to be upserted\n",
    "to_upsert = list(zip(ids, embeds, meta))\n",
    "\n",
    "# Upsert vectors in batches\n",
    "for i in range(0, shape[0], batch_size):\n",
    "    i_end = min(i + batch_size, shape[0])\n",
    "    index.upsert(vectors=to_upsert[i:i_end])\n",
    "\n",
    "# View index statistics\n",
    "print(index.describe_index_stats())\n",
    "\n",
    "# Expected Output Example:\n",
    "# {'dimension': 1024,\n",
    "#  'index_fullness': 0.0,\n",
    "#  'namespaces': {'': {'vector_count': 1000}},\n",
    "#  'total_vector_count': 1000}\n"
   ]
  },
  {
   "cell_type": "code",
   "execution_count": 59,
   "metadata": {},
   "outputs": [
    {
     "name": "stdout",
     "output_type": "stream",
     "text": [
      "(1, 1024)\n"
     ]
    }
   ],
   "source": [
    "query = \"How to save photos from a browser?\"\n",
    "\n",
    "# create the query embedding\n",
    "xq = co.embed(\n",
    "    texts=[query],\n",
    "    model='embed-english-v3.0',\n",
    "    input_type='search_query',\n",
    "    truncate='END'\n",
    ").embeddings\n",
    "\n",
    "print(np.array(xq).shape)\n",
    "\n",
    "# query, returning the top 5 most similar results\n",
    "res = index.query(vector=xq, top_k=5, include_metadata=True)\n"
   ]
  },
  {
   "cell_type": "code",
   "execution_count": 60,
   "metadata": {},
   "outputs": [
    {
     "name": "stdout",
     "output_type": "stream",
     "text": [
      "Score: 0.58\n",
      "Question: How do I take advantage of the Safari web browser to save web pages for offline reading or share them with others?\n",
      "Answer: To save a web page for offline reading, open the web page you want to save and tap on the bookmark icon (looks like a book) in the address bar. Choose \"Add Bookmark\" and select the location where you want to save it. Saved web pages can be accessed by tapping on the bookmark icon and selecting \"Reading List.\" To share a web page, tap on the share icon (looks like an arrow pointing upwards) in the address bar. Choose the sharing method, such as email, messaging, or social media.\n",
      "\n",
      "Score: 0.58\n",
      "Question: How do I take advantage of the Safari web browser to save web pages for offline reading or share them with others?\n",
      "Answer: To save a web page for offline reading, open the web page you want to save and tap on the bookmark icon (looks like a book) in the address bar. Choose \"Add Bookmark\" and select the location where you want to save it. Saved web pages can be accessed by tapping on the bookmark icon and selecting \"Reading List.\" To share a web page, tap on the share icon (looks like an arrow pointing upwards) in the address bar. Choose the sharing method, such as email, messaging, or social media.\n",
      "\n",
      "Score: 0.50\n",
      "Question: How do I take advantage of the Safari web browser to bookmark frequently visited websites for quick access?\n",
      "Answer: To bookmark a website, open it in Safari and tap on the bookmark icon (looks like a book) in the address bar. Choose \"Add Bookmark\" and select the location where you want to save it. Bookmarks can be accessed by tapping on the bookmark icon and selecting \"Bookmarks.\"\n",
      "\n",
      "Score: 0.49\n",
      "Question: How to transfer photos from my iPhone to a PC?\n",
      "Answer: Use the Photos app with iTunes, iCloud, or import them directly using Windows File Explorer.\n",
      "\n",
      "Score: 0.46\n",
      "Question: How do I use the built-in Photos app to view, edit, and share my photos and videos?\n",
      "Answer: To use Photos, open the app and select the photo or video you want to view. You can also swipe left or right to view other photos and videos in your photo library. To edit a photo, tap on the \"Edit\" button at the bottom of the screen. Swipe through the editing tools to adjust brightness, contrast, saturation, exposure, and other parameters. You can also add filters, crop the photo, or apply additional effects. To share a photo or video, tap on the share icon in the bottom left corner of the screen. Choose the sharing method, such as email, messaging, or social media.\n",
      "\n"
     ]
    }
   ],
   "source": [
    "for match in res['matches']:\n",
    "    print(f\"Score: {match['score']:.2f}\")\n",
    "    print(f\"Question: {match['metadata']['question']}\")\n",
    "    print(f\"Answer: {match['metadata']['answer']}\\n\")\n"
   ]
  },
  {
   "cell_type": "code",
   "execution_count": 58,
   "metadata": {},
   "outputs": [
    {
     "name": "stdout",
     "output_type": "stream",
     "text": [
      "(1, 1024)\n",
      "To save photos from a browser, simply follow these steps:\n",
      "\n",
      "1. Open the web page that contains the photo you want to save.\n",
      "\n",
      "2. Depending on your browser, right-click or long-press on the image. A menu will appear.\n",
      "\n",
      "3. From the menu, select the \"Save Image\" or \"Save Picture As...\" option. The exact wording may vary slightly depending on your browser.\n",
      "\n",
      "4. Choose the location on your computer where you want to save the photo. You can create a new folder or select an existing one.\n",
      "\n",
      "5. Click the \"Save\" button, and the photo will be downloaded and saved to the specified location.\n",
      "\n",
      "That's it! You have now successfully saved a photo from a browser to your computer. You can then access the photo anytime from the chosen location and even transfer it to other devices if needed.\n"
     ]
    }
   ],
   "source": [
    "# Define the user query\n",
    "query = \"How to save photos from a browser?\"\n",
    "\n",
    "# Create the query embedding\n",
    "xq = co.embed(\n",
    "    texts=[query],\n",
    "    model='embed-english-v3.0',\n",
    "    input_type='search_query',\n",
    "    truncate='END'\n",
    ").embeddings\n",
    "\n",
    "print(np.array(xq).shape)\n",
    "\n",
    "# Query the index, returning the top 5 most similar results with metadata\n",
    "res = index.query(vector=xq, top_k=5, include_metadata=True)\n",
    "\n",
    "# Retrieve relevant context from the query result\n",
    "context = \"\"\n",
    "for match in res['matches']:\n",
    "    context += f\"Question: {match['metadata']['question']}\\n\"\n",
    "    context += f\"Answer: {match['metadata']['answer']}\\n\\n\"\n",
    "\n",
    "\n",
    "combined_message = f\"User Query: {query}\\n\\nRelevant Context:\\n{context}\"\n",
    "    \n",
    "    # Generate search queries, if any        \n",
    "response = co.chat(message=combined_message,\n",
    "                    model=\"command-r-plus\")\n",
    "\n",
    "print(response.text)\n",
    "print(response)\n"
   ]
  },
  {
   "cell_type": "code",
   "execution_count": null,
   "metadata": {},
   "outputs": [],
   "source": []
  }
 ],
 "metadata": {
  "kernelspec": {
   "display_name": "Python 3 (ipykernel)",
   "language": "python",
   "name": "python3"
  },
  "language_info": {
   "codemirror_mode": {
    "name": "ipython",
    "version": 3
   },
   "file_extension": ".py",
   "mimetype": "text/x-python",
   "name": "python",
   "nbconvert_exporter": "python",
   "pygments_lexer": "ipython3",
   "version": "3.12.4"
  }
 },
 "nbformat": 4,
 "nbformat_minor": 4
}
